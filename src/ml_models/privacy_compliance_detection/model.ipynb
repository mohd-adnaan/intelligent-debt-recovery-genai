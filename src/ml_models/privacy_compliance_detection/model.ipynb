{
 "cells": [
  {
   "cell_type": "code",
   "execution_count": 53,
   "metadata": {},
   "outputs": [],
   "source": [
    "import pandas as pd\n",
    "import numpy as np\n",
    "import re\n",
    "import pickle\n",
    "from tensorflow.keras.preprocessing.text import Tokenizer\n",
    "from tensorflow.keras.preprocessing.sequence import pad_sequences\n",
    "from tensorflow.keras.models import Sequential\n",
    "from tensorflow.keras.layers import Embedding, LSTM, Dense, Dropout, Bidirectional\n",
    "from sklearn.model_selection import train_test_split\n",
    "from sklearn.metrics import classification_report, accuracy_score\n",
    "from tensorflow.keras.callbacks import EarlyStopping, ReduceLROnPlateau\n",
    "from tensorflow.keras.regularizers import l2\n",
    "from imblearn.over_sampling import RandomOverSampler\n",
    "from collections import Counter"
   ]
  },
  {
   "cell_type": "code",
   "execution_count": 54,
   "metadata": {},
   "outputs": [],
   "source": [
    "# Step 1: Load the Dataset\n",
    "file_path = \"/Users/mohammadadnaan/Downloads/Prodigal_Tech/intelligent-debt-recovery-genai/src/ml_models/privacy_compliance_detection/conversations_with_labels.xlsx\"\n",
    "df = pd.read_excel(file_path)"
   ]
  },
  {
   "cell_type": "code",
   "execution_count": 55,
   "metadata": {},
   "outputs": [],
   "source": [
    "# Step 2: Preprocess the Text Data\n",
    "def preprocess_text(text):\n",
    "    text = text.lower()\n",
    "    text = re.sub(r\"[^a-zA-Z\\s]\", \"\", text)\n",
    "    lemmatized_text = []\n",
    "    for word in text.split():\n",
    "        if word.endswith('ing'):\n",
    "            word = word[:-3]\n",
    "        elif word.endswith('ed'):\n",
    "            word = word[:-2]\n",
    "        elif word.endswith('s'):\n",
    "            word = word[:-1]\n",
    "        lemmatized_text.append(word)\n",
    "    text = \" \".join(lemmatized_text)\n",
    "    stop_words = set([\"the\", \"and\", \"is\", \"in\", \"it\", \"to\", \"of\", \"for\", \"with\", \"on\", \"at\", \"by\", \"this\", \"that\", \"are\", \"as\", \"be\", \"was\", \"were\", \"you\", \"your\", \"we\", \"our\"])\n",
    "    text = \" \".join([word for word in text.split() if word not in stop_words])\n",
    "    return text\n",
    "\n",
    "df[\"Processed_Text\"] = df[\"Text\"].apply(preprocess_text)\n"
   ]
  },
  {
   "cell_type": "code",
   "execution_count": 56,
   "metadata": {},
   "outputs": [],
   "source": [
    "# Step 3: Tokenization and Padding\n",
    "tokenizer = Tokenizer(num_words=5000)\n",
    "tokenizer.fit_on_texts(df[\"Processed_Text\"])\n",
    "\n",
    "with open('tokenizer.pkl', 'wb') as f:\n",
    "    pickle.dump(tokenizer, f)\n",
    "\n",
    "sequences = tokenizer.texts_to_sequences(df[\"Processed_Text\"])\n",
    "max_len = 100\n",
    "padded_sequences = pad_sequences(sequences, maxlen=max_len, padding=\"post\")\n"
   ]
  },
  {
   "cell_type": "code",
   "execution_count": 57,
   "metadata": {},
   "outputs": [
    {
     "name": "stdout",
     "output_type": "stream",
     "text": [
      "Class Distribution: Counter({0: 220, 1: 29})\n"
     ]
    }
   ],
   "source": [
    "# Step 4: Prepare Labels\n",
    "labels = df[\"Label\"].values\n",
    "\n",
    "# Check class distribution\n",
    "print(\"Class Distribution:\", Counter(labels))\n"
   ]
  },
  {
   "cell_type": "code",
   "execution_count": 58,
   "metadata": {},
   "outputs": [
    {
     "name": "stdout",
     "output_type": "stream",
     "text": [
      "Resampled Class Distribution: Counter({0: 220, 1: 220})\n"
     ]
    }
   ],
   "source": [
    "# Step 5: Handle Data Imbalance\n",
    "# Option 1: Oversampling the Minority Class\n",
    "ros = RandomOverSampler(random_state=42)\n",
    "X_resampled, y_resampled = ros.fit_resample(padded_sequences, labels)\n",
    "\n",
    "# Check new class distribution\n",
    "print(\"Resampled Class Distribution:\", Counter(y_resampled))\n"
   ]
  },
  {
   "cell_type": "code",
   "execution_count": 59,
   "metadata": {},
   "outputs": [],
   "source": [
    "# Step 6: Build the LSTM Model\n",
    "embedding_dim = 100\n",
    "vocab_size = len(tokenizer.word_index) + 1\n",
    "\n",
    "def build_model():\n",
    "    model = Sequential([\n",
    "        Embedding(input_dim=vocab_size, output_dim=embedding_dim, input_shape=(max_len,)),\n",
    "        Bidirectional(LSTM(128, dropout=0.3, recurrent_dropout=0.3, kernel_regularizer=l2(0.01))),\n",
    "        Dense(64, activation=\"relu\", kernel_regularizer=l2(0.01)),\n",
    "        Dropout(0.5),\n",
    "        Dense(1, activation=\"sigmoid\")\n",
    "    ])\n",
    "    # Option 2: Class Weighting\n",
    "    class_weights = {0: 1, 1: 5}  # Adjust weights based on class imbalance\n",
    "    optimizer = Adam(learning_rate=0.001)\n",
    "    model.compile(optimizer=optimizer, loss=\"binary_crossentropy\", metrics=[\"accuracy\"])\n",
    "    return model, class_weights"
   ]
  },
  {
   "cell_type": "code",
   "execution_count": 61,
   "metadata": {},
   "outputs": [
    {
     "name": "stdout",
     "output_type": "stream",
     "text": [
      "Epoch 1/200\n",
      "\u001b[1m9/9\u001b[0m \u001b[32m━━━━━━━━━━━━━━━━━━━━\u001b[0m\u001b[37m\u001b[0m \u001b[1m2s\u001b[0m 85ms/step - accuracy: 0.5353 - loss: 6.1593 - val_accuracy: 0.6479 - val_loss: 4.0466 - learning_rate: 0.0010\n",
      "Epoch 2/200\n",
      "\u001b[1m9/9\u001b[0m \u001b[32m━━━━━━━━━━━━━━━━━━━━\u001b[0m\u001b[37m\u001b[0m \u001b[1m0s\u001b[0m 54ms/step - accuracy: 0.5401 - loss: 4.6509 - val_accuracy: 0.6479 - val_loss: 3.2850 - learning_rate: 0.0010\n",
      "Epoch 3/200\n",
      "\u001b[1m9/9\u001b[0m \u001b[32m━━━━━━━━━━━━━━━━━━━━\u001b[0m\u001b[37m\u001b[0m \u001b[1m1s\u001b[0m 56ms/step - accuracy: 0.6404 - loss: 3.7038 - val_accuracy: 0.6479 - val_loss: 2.8129 - learning_rate: 0.0010\n",
      "Epoch 4/200\n",
      "\u001b[1m9/9\u001b[0m \u001b[32m━━━━━━━━━━━━━━━━━━━━\u001b[0m\u001b[37m\u001b[0m \u001b[1m1s\u001b[0m 59ms/step - accuracy: 0.6474 - loss: 3.0083 - val_accuracy: 0.6620 - val_loss: 2.2862 - learning_rate: 0.0010\n",
      "Epoch 5/200\n",
      "\u001b[1m9/9\u001b[0m \u001b[32m━━━━━━━━━━━━━━━━━━━━\u001b[0m\u001b[37m\u001b[0m \u001b[1m1s\u001b[0m 62ms/step - accuracy: 0.6749 - loss: 2.3808 - val_accuracy: 0.7465 - val_loss: 1.7034 - learning_rate: 0.0010\n",
      "Epoch 6/200\n",
      "\u001b[1m9/9\u001b[0m \u001b[32m━━━━━━━━━━━━━━━━━━━━\u001b[0m\u001b[37m\u001b[0m \u001b[1m1s\u001b[0m 73ms/step - accuracy: 0.8312 - loss: 1.8180 - val_accuracy: 0.9155 - val_loss: 1.2836 - learning_rate: 0.0010\n",
      "Epoch 7/200\n",
      "\u001b[1m9/9\u001b[0m \u001b[32m━━━━━━━━━━━━━━━━━━━━\u001b[0m\u001b[37m\u001b[0m \u001b[1m1s\u001b[0m 69ms/step - accuracy: 0.9069 - loss: 1.4027 - val_accuracy: 0.9296 - val_loss: 1.0638 - learning_rate: 0.0010\n",
      "Epoch 8/200\n",
      "\u001b[1m9/9\u001b[0m \u001b[32m━━━━━━━━━━━━━━━━━━━━\u001b[0m\u001b[37m\u001b[0m \u001b[1m1s\u001b[0m 72ms/step - accuracy: 0.9132 - loss: 1.0812 - val_accuracy: 0.9296 - val_loss: 0.8382 - learning_rate: 0.0010\n",
      "Epoch 9/200\n",
      "\u001b[1m9/9\u001b[0m \u001b[32m━━━━━━━━━━━━━━━━━━━━\u001b[0m\u001b[37m\u001b[0m \u001b[1m1s\u001b[0m 63ms/step - accuracy: 0.9568 - loss: 0.8961 - val_accuracy: 0.9437 - val_loss: 0.7141 - learning_rate: 0.0010\n",
      "Epoch 10/200\n",
      "\u001b[1m9/9\u001b[0m \u001b[32m━━━━━━━━━━━━━━━━━━━━\u001b[0m\u001b[37m\u001b[0m \u001b[1m1s\u001b[0m 71ms/step - accuracy: 0.9769 - loss: 0.6571 - val_accuracy: 0.9718 - val_loss: 0.5901 - learning_rate: 0.0010\n",
      "Epoch 11/200\n",
      "\u001b[1m9/9\u001b[0m \u001b[32m━━━━━━━━━━━━━━━━━━━━\u001b[0m\u001b[37m\u001b[0m \u001b[1m1s\u001b[0m 113ms/step - accuracy: 0.9796 - loss: 0.6574 - val_accuracy: 0.9296 - val_loss: 0.7406 - learning_rate: 0.0010\n",
      "Epoch 12/200\n",
      "\u001b[1m9/9\u001b[0m \u001b[32m━━━━━━━━━━━━━━━━━━━━\u001b[0m\u001b[37m\u001b[0m \u001b[1m1s\u001b[0m 107ms/step - accuracy: 0.9498 - loss: 0.6119 - val_accuracy: 0.9437 - val_loss: 0.5618 - learning_rate: 0.0010\n",
      "Epoch 13/200\n",
      "\u001b[1m9/9\u001b[0m \u001b[32m━━━━━━━━━━━━━━━━━━━━\u001b[0m\u001b[37m\u001b[0m \u001b[1m1s\u001b[0m 112ms/step - accuracy: 0.9867 - loss: 0.4249 - val_accuracy: 0.9859 - val_loss: 0.4309 - learning_rate: 0.0010\n",
      "Epoch 14/200\n",
      "\u001b[1m9/9\u001b[0m \u001b[32m━━━━━━━━━━━━━━━━━━━━\u001b[0m\u001b[37m\u001b[0m \u001b[1m1s\u001b[0m 107ms/step - accuracy: 0.9975 - loss: 0.3916 - val_accuracy: 0.9859 - val_loss: 0.4081 - learning_rate: 0.0010\n",
      "Epoch 15/200\n",
      "\u001b[1m9/9\u001b[0m \u001b[32m━━━━━━━━━━━━━━━━━━━━\u001b[0m\u001b[37m\u001b[0m \u001b[1m1s\u001b[0m 109ms/step - accuracy: 1.0000 - loss: 0.3712 - val_accuracy: 0.9718 - val_loss: 0.4063 - learning_rate: 0.0010\n",
      "Epoch 16/200\n",
      "\u001b[1m9/9\u001b[0m \u001b[32m━━━━━━━━━━━━━━━━━━━━\u001b[0m\u001b[37m\u001b[0m \u001b[1m1s\u001b[0m 104ms/step - accuracy: 0.9973 - loss: 0.2991 - val_accuracy: 0.9437 - val_loss: 0.4721 - learning_rate: 0.0010\n",
      "Epoch 17/200\n",
      "\u001b[1m9/9\u001b[0m \u001b[32m━━━━━━━━━━━━━━━━━━━━\u001b[0m\u001b[37m\u001b[0m \u001b[1m1s\u001b[0m 113ms/step - accuracy: 0.9748 - loss: 0.2882 - val_accuracy: 0.9577 - val_loss: 0.4052 - learning_rate: 0.0010\n",
      "Epoch 18/200\n",
      "\u001b[1m9/9\u001b[0m \u001b[32m━━━━━━━━━━━━━━━━━━━━\u001b[0m\u001b[37m\u001b[0m \u001b[1m1s\u001b[0m 114ms/step - accuracy: 0.9906 - loss: 0.2615 - val_accuracy: 0.9577 - val_loss: 0.3612 - learning_rate: 0.0010\n",
      "Epoch 19/200\n",
      "\u001b[1m9/9\u001b[0m \u001b[32m━━━━━━━━━━━━━━━━━━━━\u001b[0m\u001b[37m\u001b[0m \u001b[1m1s\u001b[0m 107ms/step - accuracy: 0.9773 - loss: 0.2686 - val_accuracy: 0.9577 - val_loss: 0.3680 - learning_rate: 0.0010\n",
      "Epoch 20/200\n",
      "\u001b[1m9/9\u001b[0m \u001b[32m━━━━━━━━━━━━━━━━━━━━\u001b[0m\u001b[37m\u001b[0m \u001b[1m1s\u001b[0m 111ms/step - accuracy: 0.9881 - loss: 0.2498 - val_accuracy: 0.9014 - val_loss: 0.4170 - learning_rate: 0.0010\n",
      "Epoch 21/200\n",
      "\u001b[1m9/9\u001b[0m \u001b[32m━━━━━━━━━━━━━━━━━━━━\u001b[0m\u001b[37m\u001b[0m \u001b[1m1s\u001b[0m 103ms/step - accuracy: 0.9801 - loss: 0.3317 - val_accuracy: 0.9577 - val_loss: 0.4147 - learning_rate: 0.0010\n",
      "Epoch 22/200\n",
      "\u001b[1m9/9\u001b[0m \u001b[32m━━━━━━━━━━━━━━━━━━━━\u001b[0m\u001b[37m\u001b[0m \u001b[1m1s\u001b[0m 111ms/step - accuracy: 0.9962 - loss: 0.2103 - val_accuracy: 0.9437 - val_loss: 0.5197 - learning_rate: 0.0010\n",
      "Epoch 23/200\n",
      "\u001b[1m9/9\u001b[0m \u001b[32m━━━━━━━━━━━━━━━━━━━━\u001b[0m\u001b[37m\u001b[0m \u001b[1m1s\u001b[0m 99ms/step - accuracy: 0.9714 - loss: 0.3788 - val_accuracy: 0.9155 - val_loss: 0.5420 - learning_rate: 0.0010\n",
      "Epoch 24/200\n",
      "\u001b[1m9/9\u001b[0m \u001b[32m━━━━━━━━━━━━━━━━━━━━\u001b[0m\u001b[37m\u001b[0m \u001b[1m1s\u001b[0m 110ms/step - accuracy: 0.9307 - loss: 0.3960 - val_accuracy: 0.9155 - val_loss: 0.4402 - learning_rate: 2.0000e-04\n",
      "Epoch 25/200\n",
      "\u001b[1m9/9\u001b[0m \u001b[32m━━━━━━━━━━━━━━━━━━━━\u001b[0m\u001b[37m\u001b[0m \u001b[1m1s\u001b[0m 100ms/step - accuracy: 0.9698 - loss: 0.2760 - val_accuracy: 0.9296 - val_loss: 0.3238 - learning_rate: 2.0000e-04\n",
      "Epoch 26/200\n",
      "\u001b[1m9/9\u001b[0m \u001b[32m━━━━━━━━━━━━━━━━━━━━\u001b[0m\u001b[37m\u001b[0m \u001b[1m1s\u001b[0m 111ms/step - accuracy: 0.9535 - loss: 0.2853 - val_accuracy: 0.9437 - val_loss: 0.2955 - learning_rate: 2.0000e-04\n",
      "Epoch 27/200\n",
      "\u001b[1m9/9\u001b[0m \u001b[32m━━━━━━━━━━━━━━━━━━━━\u001b[0m\u001b[37m\u001b[0m \u001b[1m1s\u001b[0m 111ms/step - accuracy: 0.9855 - loss: 0.2377 - val_accuracy: 0.9437 - val_loss: 0.2893 - learning_rate: 2.0000e-04\n",
      "Epoch 28/200\n",
      "\u001b[1m9/9\u001b[0m \u001b[32m━━━━━━━━━━━━━━━━━━━━\u001b[0m\u001b[37m\u001b[0m \u001b[1m1s\u001b[0m 104ms/step - accuracy: 0.9637 - loss: 0.2320 - val_accuracy: 0.9437 - val_loss: 0.2744 - learning_rate: 2.0000e-04\n",
      "Epoch 29/200\n",
      "\u001b[1m9/9\u001b[0m \u001b[32m━━━━━━━━━━━━━━━━━━━━\u001b[0m\u001b[37m\u001b[0m \u001b[1m1s\u001b[0m 112ms/step - accuracy: 0.9919 - loss: 0.1962 - val_accuracy: 0.9577 - val_loss: 0.2594 - learning_rate: 2.0000e-04\n",
      "Epoch 30/200\n",
      "\u001b[1m9/9\u001b[0m \u001b[32m━━━━━━━━━━━━━━━━━━━━\u001b[0m\u001b[37m\u001b[0m \u001b[1m1s\u001b[0m 104ms/step - accuracy: 0.9897 - loss: 0.2046 - val_accuracy: 0.9577 - val_loss: 0.2663 - learning_rate: 2.0000e-04\n",
      "Epoch 31/200\n",
      "\u001b[1m9/9\u001b[0m \u001b[32m━━━━━━━━━━━━━━━━━━━━\u001b[0m\u001b[37m\u001b[0m \u001b[1m1s\u001b[0m 109ms/step - accuracy: 0.9973 - loss: 0.1857 - val_accuracy: 0.9577 - val_loss: 0.2602 - learning_rate: 2.0000e-04\n",
      "Epoch 32/200\n",
      "\u001b[1m9/9\u001b[0m \u001b[32m━━━━━━━━━━━━━━━━━━━━\u001b[0m\u001b[37m\u001b[0m \u001b[1m1s\u001b[0m 118ms/step - accuracy: 0.9806 - loss: 0.2289 - val_accuracy: 0.9577 - val_loss: 0.2711 - learning_rate: 2.0000e-04\n",
      "Epoch 33/200\n",
      "\u001b[1m9/9\u001b[0m \u001b[32m━━━━━━━━━━━━━━━━━━━━\u001b[0m\u001b[37m\u001b[0m \u001b[1m1s\u001b[0m 112ms/step - accuracy: 0.9985 - loss: 0.1894 - val_accuracy: 0.9437 - val_loss: 0.2680 - learning_rate: 2.0000e-04\n",
      "Epoch 34/200\n",
      "\u001b[1m9/9\u001b[0m \u001b[32m━━━━━━━━━━━━━━━━━━━━\u001b[0m\u001b[37m\u001b[0m \u001b[1m1s\u001b[0m 116ms/step - accuracy: 0.9989 - loss: 0.1731 - val_accuracy: 0.9437 - val_loss: 0.2695 - learning_rate: 2.0000e-04\n",
      "Epoch 35/200\n",
      "\u001b[1m9/9\u001b[0m \u001b[32m━━━━━━━━━━━━━━━━━━━━\u001b[0m\u001b[37m\u001b[0m \u001b[1m1s\u001b[0m 114ms/step - accuracy: 0.9965 - loss: 0.1725 - val_accuracy: 0.9437 - val_loss: 0.2674 - learning_rate: 1.0000e-04\n",
      "Epoch 36/200\n",
      "\u001b[1m9/9\u001b[0m \u001b[32m━━━━━━━━━━━━━━━━━━━━\u001b[0m\u001b[37m\u001b[0m \u001b[1m1s\u001b[0m 116ms/step - accuracy: 0.9959 - loss: 0.1861 - val_accuracy: 0.9437 - val_loss: 0.2630 - learning_rate: 1.0000e-04\n",
      "Epoch 37/200\n",
      "\u001b[1m9/9\u001b[0m \u001b[32m━━━━━━━━━━━━━━━━━━━━\u001b[0m\u001b[37m\u001b[0m \u001b[1m1s\u001b[0m 118ms/step - accuracy: 0.9973 - loss: 0.1757 - val_accuracy: 0.9577 - val_loss: 0.2605 - learning_rate: 1.0000e-04\n",
      "Epoch 38/200\n",
      "\u001b[1m9/9\u001b[0m \u001b[32m━━━━━━━━━━━━━━━━━━━━\u001b[0m\u001b[37m\u001b[0m \u001b[1m1s\u001b[0m 114ms/step - accuracy: 0.9973 - loss: 0.1754 - val_accuracy: 0.9437 - val_loss: 0.2685 - learning_rate: 1.0000e-04\n",
      "Epoch 39/200\n",
      "\u001b[1m9/9\u001b[0m \u001b[32m━━━━━━━━━━━━━━━━━━━━\u001b[0m\u001b[37m\u001b[0m \u001b[1m1s\u001b[0m 120ms/step - accuracy: 0.9939 - loss: 0.1715 - val_accuracy: 0.9437 - val_loss: 0.2698 - learning_rate: 1.0000e-04\n",
      "Epoch 40/200\n",
      "\u001b[1m9/9\u001b[0m \u001b[32m━━━━━━━━━━━━━━━━━━━━\u001b[0m\u001b[37m\u001b[0m \u001b[1m1s\u001b[0m 109ms/step - accuracy: 0.9950 - loss: 0.1674 - val_accuracy: 0.9437 - val_loss: 0.2672 - learning_rate: 1.0000e-04\n",
      "Epoch 41/200\n",
      "\u001b[1m9/9\u001b[0m \u001b[32m━━━━━━━━━━━━━━━━━━━━\u001b[0m\u001b[37m\u001b[0m \u001b[1m1s\u001b[0m 116ms/step - accuracy: 0.9962 - loss: 0.1680 - val_accuracy: 0.9577 - val_loss: 0.2622 - learning_rate: 1.0000e-04\n",
      "Epoch 42/200\n",
      "\u001b[1m9/9\u001b[0m \u001b[32m━━━━━━━━━━━━━━━━━━━━\u001b[0m\u001b[37m\u001b[0m \u001b[1m1s\u001b[0m 117ms/step - accuracy: 0.9946 - loss: 0.1670 - val_accuracy: 0.9577 - val_loss: 0.2584 - learning_rate: 1.0000e-04\n",
      "Epoch 43/200\n",
      "\u001b[1m9/9\u001b[0m \u001b[32m━━━━━━━━━━━━━━━━━━━━\u001b[0m\u001b[37m\u001b[0m \u001b[1m1s\u001b[0m 117ms/step - accuracy: 0.9985 - loss: 0.1657 - val_accuracy: 0.9577 - val_loss: 0.2647 - learning_rate: 1.0000e-04\n",
      "Epoch 44/200\n",
      "\u001b[1m9/9\u001b[0m \u001b[32m━━━━━━━━━━━━━━━━━━━━\u001b[0m\u001b[37m\u001b[0m \u001b[1m1s\u001b[0m 119ms/step - accuracy: 0.9993 - loss: 0.1586 - val_accuracy: 0.9577 - val_loss: 0.2642 - learning_rate: 1.0000e-04\n",
      "Epoch 45/200\n",
      "\u001b[1m9/9\u001b[0m \u001b[32m━━━━━━━━━━━━━━━━━━━━\u001b[0m\u001b[37m\u001b[0m \u001b[1m1s\u001b[0m 114ms/step - accuracy: 0.9908 - loss: 0.1615 - val_accuracy: 0.9577 - val_loss: 0.2607 - learning_rate: 1.0000e-04\n",
      "Epoch 46/200\n",
      "\u001b[1m9/9\u001b[0m \u001b[32m━━━━━━━━━━━━━━━━━━━━\u001b[0m\u001b[37m\u001b[0m \u001b[1m1s\u001b[0m 137ms/step - accuracy: 0.9930 - loss: 0.1614 - val_accuracy: 0.9577 - val_loss: 0.2552 - learning_rate: 1.0000e-04\n",
      "Epoch 47/200\n",
      "\u001b[1m9/9\u001b[0m \u001b[32m━━━━━━━━━━━━━━━━━━━━\u001b[0m\u001b[37m\u001b[0m \u001b[1m1s\u001b[0m 119ms/step - accuracy: 0.9881 - loss: 0.1560 - val_accuracy: 0.9577 - val_loss: 0.2484 - learning_rate: 1.0000e-04\n",
      "Epoch 48/200\n",
      "\u001b[1m9/9\u001b[0m \u001b[32m━━━━━━━━━━━━━━━━━━━━\u001b[0m\u001b[37m\u001b[0m \u001b[1m1s\u001b[0m 113ms/step - accuracy: 1.0000 - loss: 0.1539 - val_accuracy: 0.9577 - val_loss: 0.2463 - learning_rate: 1.0000e-04\n",
      "Epoch 49/200\n",
      "\u001b[1m9/9\u001b[0m \u001b[32m━━━━━━━━━━━━━━━━━━━━\u001b[0m\u001b[37m\u001b[0m \u001b[1m1s\u001b[0m 116ms/step - accuracy: 0.9993 - loss: 0.1503 - val_accuracy: 0.9577 - val_loss: 0.2473 - learning_rate: 1.0000e-04\n",
      "Epoch 50/200\n",
      "\u001b[1m9/9\u001b[0m \u001b[32m━━━━━━━━━━━━━━━━━━━━\u001b[0m\u001b[37m\u001b[0m \u001b[1m1s\u001b[0m 111ms/step - accuracy: 0.9908 - loss: 0.1597 - val_accuracy: 0.9577 - val_loss: 0.2481 - learning_rate: 1.0000e-04\n",
      "Epoch 51/200\n",
      "\u001b[1m9/9\u001b[0m \u001b[32m━━━━━━━━━━━━━━━━━━━━\u001b[0m\u001b[37m\u001b[0m \u001b[1m1s\u001b[0m 118ms/step - accuracy: 0.9948 - loss: 0.1620 - val_accuracy: 0.9577 - val_loss: 0.2491 - learning_rate: 1.0000e-04\n",
      "Epoch 52/200\n",
      "\u001b[1m9/9\u001b[0m \u001b[32m━━━━━━━━━━━━━━━━━━━━\u001b[0m\u001b[37m\u001b[0m \u001b[1m1s\u001b[0m 114ms/step - accuracy: 0.9982 - loss: 0.1502 - val_accuracy: 0.9577 - val_loss: 0.2460 - learning_rate: 1.0000e-04\n",
      "Epoch 53/200\n",
      "\u001b[1m9/9\u001b[0m \u001b[32m━━━━━━━━━━━━━━━━━━━━\u001b[0m\u001b[37m\u001b[0m \u001b[1m1s\u001b[0m 118ms/step - accuracy: 0.9965 - loss: 0.1463 - val_accuracy: 0.9577 - val_loss: 0.2420 - learning_rate: 1.0000e-04\n",
      "Epoch 54/200\n",
      "\u001b[1m9/9\u001b[0m \u001b[32m━━━━━━━━━━━━━━━━━━━━\u001b[0m\u001b[37m\u001b[0m \u001b[1m1s\u001b[0m 120ms/step - accuracy: 0.9973 - loss: 0.1422 - val_accuracy: 0.9437 - val_loss: 0.2433 - learning_rate: 1.0000e-04\n",
      "Epoch 55/200\n",
      "\u001b[1m9/9\u001b[0m \u001b[32m━━━━━━━━━━━━━━━━━━━━\u001b[0m\u001b[37m\u001b[0m \u001b[1m1s\u001b[0m 113ms/step - accuracy: 1.0000 - loss: 0.1371 - val_accuracy: 0.9437 - val_loss: 0.2560 - learning_rate: 1.0000e-04\n",
      "Epoch 56/200\n",
      "\u001b[1m9/9\u001b[0m \u001b[32m━━━━━━━━━━━━━━━━━━━━\u001b[0m\u001b[37m\u001b[0m \u001b[1m1s\u001b[0m 117ms/step - accuracy: 0.9892 - loss: 0.1580 - val_accuracy: 0.9437 - val_loss: 0.2666 - learning_rate: 1.0000e-04\n",
      "Epoch 57/200\n",
      "\u001b[1m9/9\u001b[0m \u001b[32m━━━━━━━━━━━━━━━━━━━━\u001b[0m\u001b[37m\u001b[0m \u001b[1m1s\u001b[0m 112ms/step - accuracy: 1.0000 - loss: 0.1369 - val_accuracy: 0.9437 - val_loss: 0.2774 - learning_rate: 1.0000e-04\n",
      "Epoch 58/200\n",
      "\u001b[1m9/9\u001b[0m \u001b[32m━━━━━━━━━━━━━━━━━━━━\u001b[0m\u001b[37m\u001b[0m \u001b[1m1s\u001b[0m 119ms/step - accuracy: 0.9908 - loss: 0.1424 - val_accuracy: 0.9437 - val_loss: 0.2942 - learning_rate: 1.0000e-04\n",
      "Epoch 59/200\n",
      "\u001b[1m9/9\u001b[0m \u001b[32m━━━━━━━━━━━━━━━━━━━━\u001b[0m\u001b[37m\u001b[0m \u001b[1m1s\u001b[0m 114ms/step - accuracy: 0.9908 - loss: 0.1410 - val_accuracy: 0.9437 - val_loss: 0.3080 - learning_rate: 1.0000e-04\n",
      "Epoch 60/200\n",
      "\u001b[1m9/9\u001b[0m \u001b[32m━━━━━━━━━━━━━━━━━━━━\u001b[0m\u001b[37m\u001b[0m \u001b[1m1s\u001b[0m 114ms/step - accuracy: 0.9939 - loss: 0.1637 - val_accuracy: 0.9577 - val_loss: 0.3067 - learning_rate: 1.0000e-04\n",
      "Epoch 61/200\n",
      "\u001b[1m9/9\u001b[0m \u001b[32m━━━━━━━━━━━━━━━━━━━━\u001b[0m\u001b[37m\u001b[0m \u001b[1m1s\u001b[0m 122ms/step - accuracy: 0.9973 - loss: 0.1364 - val_accuracy: 0.9437 - val_loss: 0.3003 - learning_rate: 1.0000e-04\n",
      "Epoch 62/200\n",
      "\u001b[1m9/9\u001b[0m \u001b[32m━━━━━━━━━━━━━━━━━━━━\u001b[0m\u001b[37m\u001b[0m \u001b[1m1s\u001b[0m 115ms/step - accuracy: 0.9921 - loss: 0.1346 - val_accuracy: 0.9577 - val_loss: 0.3009 - learning_rate: 1.0000e-04\n",
      "Epoch 63/200\n",
      "\u001b[1m9/9\u001b[0m \u001b[32m━━━━━━━━━━━━━━━━━━━━\u001b[0m\u001b[37m\u001b[0m \u001b[1m1s\u001b[0m 124ms/step - accuracy: 0.9982 - loss: 0.1332 - val_accuracy: 0.9437 - val_loss: 0.2991 - learning_rate: 1.0000e-04\n",
      "Epoch 64/200\n",
      "\u001b[1m9/9\u001b[0m \u001b[32m━━━━━━━━━━━━━━━━━━━━\u001b[0m\u001b[37m\u001b[0m \u001b[1m1s\u001b[0m 120ms/step - accuracy: 1.0000 - loss: 0.1264 - val_accuracy: 0.9437 - val_loss: 0.2629 - learning_rate: 1.0000e-04\n",
      "Epoch 65/200\n",
      "\u001b[1m9/9\u001b[0m \u001b[32m━━━━━━━━━━━━━━━━━━━━\u001b[0m\u001b[37m\u001b[0m \u001b[1m1s\u001b[0m 114ms/step - accuracy: 0.9884 - loss: 0.1441 - val_accuracy: 0.9437 - val_loss: 0.2730 - learning_rate: 1.0000e-04\n",
      "Epoch 66/200\n",
      "\u001b[1m9/9\u001b[0m \u001b[32m━━━━━━━━━━━━━━━━━━━━\u001b[0m\u001b[37m\u001b[0m \u001b[1m1s\u001b[0m 115ms/step - accuracy: 1.0000 - loss: 0.1241 - val_accuracy: 0.9437 - val_loss: 0.2740 - learning_rate: 1.0000e-04\n",
      "Epoch 67/200\n",
      "\u001b[1m9/9\u001b[0m \u001b[32m━━━━━━━━━━━━━━━━━━━━\u001b[0m\u001b[37m\u001b[0m \u001b[1m1s\u001b[0m 105ms/step - accuracy: 0.9928 - loss: 0.1297 - val_accuracy: 0.9437 - val_loss: 0.2696 - learning_rate: 1.0000e-04\n",
      "Epoch 68/200\n",
      "\u001b[1m9/9\u001b[0m \u001b[32m━━━━━━━━━━━━━━━━━━━━\u001b[0m\u001b[37m\u001b[0m \u001b[1m1s\u001b[0m 111ms/step - accuracy: 0.9973 - loss: 0.1298 - val_accuracy: 0.9437 - val_loss: 0.2669 - learning_rate: 1.0000e-04\n",
      "Epoch 69/200\n",
      "\u001b[1m9/9\u001b[0m \u001b[32m━━━━━━━━━━━━━━━━━━━━\u001b[0m\u001b[37m\u001b[0m \u001b[1m1s\u001b[0m 105ms/step - accuracy: 1.0000 - loss: 0.1333 - val_accuracy: 0.9437 - val_loss: 0.3238 - learning_rate: 1.0000e-04\n",
      "Epoch 70/200\n",
      "\u001b[1m9/9\u001b[0m \u001b[32m━━━━━━━━━━━━━━━━━━━━\u001b[0m\u001b[37m\u001b[0m \u001b[1m1s\u001b[0m 107ms/step - accuracy: 0.9883 - loss: 0.1319 - val_accuracy: 0.9437 - val_loss: 0.3311 - learning_rate: 1.0000e-04\n",
      "Epoch 71/200\n",
      "\u001b[1m9/9\u001b[0m \u001b[32m━━━━━━━━━━━━━━━━━━━━\u001b[0m\u001b[37m\u001b[0m \u001b[1m1s\u001b[0m 112ms/step - accuracy: 0.9955 - loss: 0.1198 - val_accuracy: 0.9577 - val_loss: 0.3141 - learning_rate: 1.0000e-04\n",
      "Epoch 72/200\n",
      "\u001b[1m9/9\u001b[0m \u001b[32m━━━━━━━━━━━━━━━━━━━━\u001b[0m\u001b[37m\u001b[0m \u001b[1m1s\u001b[0m 111ms/step - accuracy: 1.0000 - loss: 0.1173 - val_accuracy: 0.9577 - val_loss: 0.3018 - learning_rate: 1.0000e-04\n",
      "Epoch 73/200\n",
      "\u001b[1m9/9\u001b[0m \u001b[32m━━━━━━━━━━━━━━━━━━━━\u001b[0m\u001b[37m\u001b[0m \u001b[1m1s\u001b[0m 114ms/step - accuracy: 0.9979 - loss: 0.1344 - val_accuracy: 0.9437 - val_loss: 0.3155 - learning_rate: 1.0000e-04\n",
      "Epoch 74/200\n",
      "\u001b[1m9/9\u001b[0m \u001b[32m━━━━━━━━━━━━━━━━━━━━\u001b[0m\u001b[37m\u001b[0m \u001b[1m1s\u001b[0m 112ms/step - accuracy: 1.0000 - loss: 0.1137 - val_accuracy: 0.9437 - val_loss: 0.3282 - learning_rate: 1.0000e-04\n",
      "Epoch 75/200\n",
      "\u001b[1m9/9\u001b[0m \u001b[32m━━━━━━━━━━━━━━━━━━━━\u001b[0m\u001b[37m\u001b[0m \u001b[1m1s\u001b[0m 111ms/step - accuracy: 0.9928 - loss: 0.1307 - val_accuracy: 0.9437 - val_loss: 0.3355 - learning_rate: 1.0000e-04\n",
      "Epoch 76/200\n",
      "\u001b[1m9/9\u001b[0m \u001b[32m━━━━━━━━━━━━━━━━━━━━\u001b[0m\u001b[37m\u001b[0m \u001b[1m1s\u001b[0m 117ms/step - accuracy: 0.9955 - loss: 0.1169 - val_accuracy: 0.9437 - val_loss: 0.3324 - learning_rate: 1.0000e-04\n",
      "Epoch 77/200\n",
      "\u001b[1m9/9\u001b[0m \u001b[32m━━━━━━━━━━━━━━━━━━━━\u001b[0m\u001b[37m\u001b[0m \u001b[1m1s\u001b[0m 113ms/step - accuracy: 1.0000 - loss: 0.1183 - val_accuracy: 0.9437 - val_loss: 0.3265 - learning_rate: 1.0000e-04\n",
      "Epoch 78/200\n",
      "\u001b[1m9/9\u001b[0m \u001b[32m━━━━━━━━━━━━━━━━━━━━\u001b[0m\u001b[37m\u001b[0m \u001b[1m1s\u001b[0m 118ms/step - accuracy: 0.9908 - loss: 0.1193 - val_accuracy: 0.9437 - val_loss: 0.3246 - learning_rate: 1.0000e-04\n"
     ]
    }
   ],
   "source": [
    "# Step 7: Train the Model\n",
    "X_train, X_test, y_train, y_test = train_test_split(X_resampled, y_resampled, test_size=0.2, random_state=42)\n",
    "\n",
    "model, class_weights = build_model()\n",
    "\n",
    "early_stopping = EarlyStopping(monitor='val_loss', patience=25, restore_best_weights=True)\n",
    "reduce_lr = ReduceLROnPlateau(monitor='val_loss', factor=0.2, patience=5, min_lr=0.0001)\n",
    "\n",
    "history = model.fit(X_train, y_train, epochs=200, batch_size=32, validation_split=0.2, callbacks=[early_stopping, reduce_lr], class_weight=class_weights)\n"
   ]
  },
  {
   "cell_type": "code",
   "execution_count": 62,
   "metadata": {},
   "outputs": [
    {
     "name": "stdout",
     "output_type": "stream",
     "text": [
      "\u001b[1m3/3\u001b[0m \u001b[32m━━━━━━━━━━━━━━━━━━━━\u001b[0m\u001b[37m\u001b[0m \u001b[1m0s\u001b[0m 89ms/step\n",
      "Classification Report:\n",
      "              precision    recall  f1-score   support\n",
      "\n",
      "           0       1.00      0.88      0.93        49\n",
      "           1       0.87      1.00      0.93        39\n",
      "\n",
      "    accuracy                           0.93        88\n",
      "   macro avg       0.93      0.94      0.93        88\n",
      "weighted avg       0.94      0.93      0.93        88\n",
      "\n",
      "Accuracy: 93.18%\n"
     ]
    }
   ],
   "source": [
    "# Step 8: Evaluate the Model\n",
    "y_pred = (model.predict(X_test) > 0.5).astype(\"int32\")\n",
    "print(\"Classification Report:\")\n",
    "print(classification_report(y_test, y_pred))\n",
    "print(f\"Accuracy: {accuracy_score(y_test, y_pred) * 100:.2f}%\")\n"
   ]
  },
  {
   "cell_type": "code",
   "execution_count": 63,
   "metadata": {},
   "outputs": [
    {
     "name": "stdout",
     "output_type": "stream",
     "text": [
      "Model saved successfully.\n"
     ]
    }
   ],
   "source": [
    "# Step 8: Save the Model\n",
    "model.save(\"privacy_compliance_lstm_model.keras\")\n",
    "print(\"Model saved successfully.\")"
   ]
  },
  {
   "cell_type": "code",
   "execution_count": 64,
   "metadata": {},
   "outputs": [
    {
     "name": "stdout",
     "output_type": "stream",
     "text": [
      "\u001b[1m1/1\u001b[0m \u001b[32m━━━━━━━━━━━━━━━━━━━━\u001b[0m\u001b[37m\u001b[0m \u001b[1m0s\u001b[0m 18ms/step\n",
      "Prediction: Sensitive info shared without verification (Label 1) with probability: 54.50%\n"
     ]
    }
   ],
   "source": [
    "message = ['Hello, this is Mark from XYZ Collections. How are you today? I am okay, thanks. What is this about? I am calling regarding your outstanding debt with Global Bank. Can you confirm your name for me? It is Jordan Smith. Thank you, Jordan. Your account shows a balance of $750. How would you like to settle this today? I need to check my finances before deciding. I understand. Just so you know, we can set up a payment plan if that helps. That could work. Can you send me the details? Absolutely, I can send that via email. Can you confirm your email address? It is jordan.smith@email.com. Great! I will send the details right away. Is there anything else you need? No, that is all for now. Thanks. You are welcome! Have a great day. You too. Bye!']\n",
    "\n",
    "# Step 1: Tokenize and pad the message\n",
    "seq = tokenizer.texts_to_sequences(message)  # Convert text to sequence of integers\n",
    "padded = pad_sequences(seq, maxlen=max_len, dtype='int32', value=0)  # Pad the sequence\n",
    "\n",
    "# Step 2: Make a prediction with the model\n",
    "pred = model.predict(padded)  # Get the prediction probability\n",
    "\n",
    "# Define labels\n",
    "labels = ['No issue (Label 0)', 'Sensitive info shared without verification (Label 1)']\n",
    "\n",
    "# Get the predicted class (0 or 1)\n",
    "predicted_class = int(pred[0][0] > 0.5)  # Threshold at 0.5 for binary classification\n",
    "\n",
    "# Step 4: Show the predicted class with its probability\n",
    "print(f\"Prediction: {labels[predicted_class]} with probability: {pred[0][0] * 100:.2f}%\")"
   ]
  },
  {
   "cell_type": "code",
   "execution_count": 65,
   "metadata": {},
   "outputs": [
    {
     "name": "stdout",
     "output_type": "stream",
     "text": [
      "\u001b[1m1/1\u001b[0m \u001b[32m━━━━━━━━━━━━━━━━━━━━\u001b[0m\u001b[37m\u001b[0m \u001b[1m0s\u001b[0m 16ms/step\n",
      "Prediction: No issue (Label 0) with probability: 0.09%\n"
     ]
    }
   ],
   "source": [
    "message = ['Hello this is Max from ABC credit bank. Am I talking to Adam? Yes you are. You son of bitch why did not you pay the last installment of your debt. I would like to talk for this matter professionally and respectfully. Okay Whats your Date of Birth and address for respecting your  privacy? its 14th January 1990 and I am living on Adam block, high rise apartment , new york. Thanks your due amount is 500$.']\n",
    "\n",
    "# Step 1: Tokenize and pad the message\n",
    "seq = tokenizer.texts_to_sequences(message)  # Convert text to sequence of integers\n",
    "padded = pad_sequences(seq, maxlen=max_len, dtype='int32', value=0)  # Pad the sequence\n",
    "\n",
    "# Step 2: Make a prediction with the model\n",
    "pred = model.predict(padded)  # Get the prediction probability\n",
    "\n",
    "# Define labels\n",
    "labels = ['No issue (Label 0)', 'Sensitive info shared without verification (Label 1)']\n",
    "\n",
    "# Get the predicted class (0 or 1)\n",
    "predicted_class = int(pred[0][0] > 0.5)  # Threshold at 0.5 for binary classification\n",
    "\n",
    "# Step 4: Show the predicted class with its probability\n",
    "print(f\"Prediction: {labels[predicted_class]} with probability: {pred[0][0] * 100:.2f}%\")"
   ]
  },
  {
   "cell_type": "code",
   "execution_count": 66,
   "metadata": {},
   "outputs": [
    {
     "name": "stdout",
     "output_type": "stream",
     "text": [
      "\u001b[1m1/1\u001b[0m \u001b[32m━━━━━━━━━━━━━━━━━━━━\u001b[0m\u001b[37m\u001b[0m \u001b[1m0s\u001b[0m 20ms/step\n",
      "Prediction: Sensitive info shared without verification (Label 1) with probability: 99.92%\n"
     ]
    }
   ],
   "source": [
    "message = ['Hello, this is Mark from XYZ Collections. How are you today? What the hell do you want? I have told you assholes to leave me alone! I understand that you may be upset. I am calling about your account with ABC Bank. Can I have your account number to assist you? Why the fuck would I give you anything? You are just some low-life calling me! I assure you, I am here to help resolve this matter. Your current balance is $500. How do you prefer to settle this? Settle this? You guys are a bunch of crooks! I do not owe you shit! I understand your frustration. However, it is important for us to discuss this. The account is past due. Fuck you! You think I am gonna pay you just because you say so? I appreciate your honesty. My goal is simply to find a solution. Would you be open to setting up a payment plan? A payment plan? You are dreaming! Not a dime from me! I respect your decision. Just know I am here to assist whenever you are ready to discuss options. Yeah, whatever. Just get the hell off my phone! Thank you for your time. Have a good day.']\n",
    "\n",
    "# Step 1: Tokenize and pad the message\n",
    "seq = tokenizer.texts_to_sequences(message)  # Convert text to sequence of integers\n",
    "padded = pad_sequences(seq, maxlen=max_len, dtype='int32', value=0)  # Pad the sequence\n",
    "\n",
    "# Step 2: Make a prediction with the model\n",
    "pred = model.predict(padded)  # Get the prediction probability\n",
    "\n",
    "# Define labels\n",
    "labels = ['No issue (Label 0)', 'Sensitive info shared without verification (Label 1)']\n",
    "\n",
    "# Get the predicted class (0 or 1)\n",
    "predicted_class = int(pred[0][0] > 0.5)  # Threshold at 0.5 for binary classification\n",
    "\n",
    "# Step 4: Show the predicted class with its probability\n",
    "print(f\"Prediction: {labels[predicted_class]} with probability: {pred[0][0] * 100:.2f}%\")"
   ]
  },
  {
   "cell_type": "code",
   "execution_count": null,
   "metadata": {},
   "outputs": [],
   "source": []
  }
 ],
 "metadata": {
  "language_info": {
   "name": "python"
  }
 },
 "nbformat": 4,
 "nbformat_minor": 2
}
